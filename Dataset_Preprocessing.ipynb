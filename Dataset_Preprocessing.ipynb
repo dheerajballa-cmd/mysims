{
 "cells": [
  {
   "cell_type": "code",
   "execution_count": 1,
   "metadata": {},
   "outputs": [
    {
     "name": "stdout",
     "output_type": "stream",
     "text": [
      "Collecting numpy\n",
      "  Downloading numpy-2.2.4-cp312-cp312-manylinux_2_17_x86_64.manylinux2014_x86_64.whl.metadata (62 kB)\n",
      "Downloading numpy-2.2.4-cp312-cp312-manylinux_2_17_x86_64.manylinux2014_x86_64.whl (16.1 MB)\n",
      "\u001b[2K   \u001b[90m━━━━━━━━━━━━━━━━━━━━━━━━━━━━━━━━━━━━━━━━\u001b[0m \u001b[32m16.1/16.1 MB\u001b[0m \u001b[31m29.5 MB/s\u001b[0m eta \u001b[36m0:00:00\u001b[0m00:01\u001b[0m0:01\u001b[0m\n",
      "\u001b[?25hInstalling collected packages: numpy\n",
      "Successfully installed numpy-2.2.4\n",
      "Note: you may need to restart the kernel to use updated packages.\n",
      "Collecting pdfplumber\n",
      "  Using cached pdfplumber-0.11.5-py3-none-any.whl.metadata (42 kB)\n",
      "Collecting pdfminer.six==20231228 (from pdfplumber)\n",
      "  Using cached pdfminer.six-20231228-py3-none-any.whl.metadata (4.2 kB)\n",
      "Requirement already satisfied: Pillow>=9.1 in /home/codespace/.local/lib/python3.12/site-packages (from pdfplumber) (11.0.0)\n",
      "Collecting pypdfium2>=4.18.0 (from pdfplumber)\n",
      "  Using cached pypdfium2-4.30.1-py3-none-manylinux_2_17_x86_64.manylinux2014_x86_64.whl.metadata (48 kB)\n",
      "Requirement already satisfied: charset-normalizer>=2.0.0 in /home/codespace/.local/lib/python3.12/site-packages (from pdfminer.six==20231228->pdfplumber) (3.4.0)\n",
      "Collecting cryptography>=36.0.0 (from pdfminer.six==20231228->pdfplumber)\n",
      "  Downloading cryptography-44.0.2-cp39-abi3-manylinux_2_28_x86_64.whl.metadata (5.7 kB)\n",
      "Requirement already satisfied: cffi>=1.12 in /home/codespace/.local/lib/python3.12/site-packages (from cryptography>=36.0.0->pdfminer.six==20231228->pdfplumber) (1.17.1)\n",
      "Requirement already satisfied: pycparser in /home/codespace/.local/lib/python3.12/site-packages (from cffi>=1.12->cryptography>=36.0.0->pdfminer.six==20231228->pdfplumber) (2.22)\n",
      "Using cached pdfplumber-0.11.5-py3-none-any.whl (59 kB)\n",
      "Using cached pdfminer.six-20231228-py3-none-any.whl (5.6 MB)\n",
      "Using cached pypdfium2-4.30.1-py3-none-manylinux_2_17_x86_64.manylinux2014_x86_64.whl (2.9 MB)\n",
      "Downloading cryptography-44.0.2-cp39-abi3-manylinux_2_28_x86_64.whl (4.2 MB)\n",
      "\u001b[2K   \u001b[90m━━━━━━━━━━━━━━━━━━━━━━━━━━━━━━━━━━━━━━━━\u001b[0m \u001b[32m4.2/4.2 MB\u001b[0m \u001b[31m14.0 MB/s\u001b[0m eta \u001b[36m0:00:00\u001b[0ma \u001b[36m0:00:01\u001b[0m\n",
      "\u001b[?25hInstalling collected packages: pypdfium2, cryptography, pdfminer.six, pdfplumber\n",
      "Successfully installed cryptography-44.0.2 pdfminer.six-20231228 pdfplumber-0.11.5 pypdfium2-4.30.1\n",
      "Note: you may need to restart the kernel to use updated packages.\n",
      "Collecting pdfminer\n",
      "  Downloading pdfminer-20191125.tar.gz (4.2 MB)\n",
      "\u001b[2K     \u001b[90m━━━━━━━━━━━━━━━━━━━━━━━━━━━━━━━━━━━━━━━━\u001b[0m \u001b[32m4.2/4.2 MB\u001b[0m \u001b[31m15.1 MB/s\u001b[0m eta \u001b[36m0:00:00\u001b[0m \u001b[36m0:00:01\u001b[0m\n",
      "\u001b[?25h  Preparing metadata (setup.py) ... \u001b[?25ldone\n",
      "\u001b[?25hCollecting pycryptodome (from pdfminer)\n",
      "  Downloading pycryptodome-3.22.0-cp37-abi3-manylinux_2_17_x86_64.manylinux2014_x86_64.whl.metadata (3.4 kB)\n",
      "Downloading pycryptodome-3.22.0-cp37-abi3-manylinux_2_17_x86_64.manylinux2014_x86_64.whl (2.3 MB)\n",
      "\u001b[2K   \u001b[90m━━━━━━━━━━━━━━━━━━━━━━━━━━━━━━━━━━━━━━━━\u001b[0m \u001b[32m2.3/2.3 MB\u001b[0m \u001b[31m40.9 MB/s\u001b[0m eta \u001b[36m0:00:00\u001b[0m\n",
      "\u001b[?25hBuilding wheels for collected packages: pdfminer\n",
      "  Building wheel for pdfminer (setup.py) ... \u001b[?25ldone\n",
      "\u001b[?25h  Created wheel for pdfminer: filename=pdfminer-20191125-py3-none-any.whl size=6140703 sha256=0d35bd3e8aca4bfc9bc85583b146ecc8dd23e1b15e4626a24fb25db97739cf42\n",
      "  Stored in directory: /home/codespace/.cache/pip/wheels/90/7b/26/62139fb7c8c5c242c492e02ce8613ca4c3df4cd86afb8e6264\n",
      "Successfully built pdfminer\n",
      "Installing collected packages: pycryptodome, pdfminer\n",
      "Successfully installed pdfminer-20191125 pycryptodome-3.22.0\n",
      "Note: you may need to restart the kernel to use updated packages.\n"
     ]
    }
   ],
   "source": [
    "%pip install numpy\n",
    "%pip install pdfplumber\n",
    "%pip install pdfminer"
   ]
  },
  {
   "cell_type": "code",
   "execution_count": 2,
   "metadata": {},
   "outputs": [],
   "source": [
    "import pandas as pd"
   ]
  },
  {
   "cell_type": "code",
   "execution_count": null,
   "metadata": {},
   "outputs": [
    {
     "name": "stdout",
     "output_type": "stream",
     "text": [
      "                    Name\n",
      "0                 Apple \n",
      "1     NVIDIA Corporation\n",
      "2  Microsoft Corporation\n",
      "3                Amazon \n",
      "4                Google \n",
      "   ranking                             University        Country  Impact Rank  \\\n",
      "0        1                     Harvard University  United States            1   \n",
      "1        2                    Stanford University  United States            3   \n",
      "2        3  Massachusetts Institute of Technology  United States            1   \n",
      "3        4      University of California Berkeley  United States            4   \n",
      "4        5                   University of Oxford             UK           15   \n",
      "\n",
      "   Openness Rank  Excellence Rank  \n",
      "0              1                1  \n",
      "1              2                4  \n",
      "2              3               15  \n",
      "3              4               27  \n",
      "4              5                5  \n",
      "            Job_Role       Skill  Score  \\\n",
      "0  Software Engineer      Python    9.7   \n",
      "1  Software Engineer        Java    9.6   \n",
      "2  Software Engineer         C++    9.6   \n",
      "3  Software Engineer  JavaScript    9.5   \n",
      "4  Software Engineer  TypeScript    9.4   \n",
      "\n",
      "                                  Position  \n",
      "0  Intern, Junior, Mid-level, Senior, Lead  \n",
      "1  Intern, Junior, Mid-level, Senior, Lead  \n",
      "2  Intern, Junior, Mid-level, Senior, Lead  \n",
      "3  Intern, Junior, Mid-level, Senior, Lead  \n",
      "4          Junior, Mid-level, Senior, Lead  \n"
     ]
    }
   ],
   "source": [
    "company_csv_preview = pd.read_csv(\"Datasets/Companies_Dataset.csv\")\n",
    "university_csv_preview = pd.read_csv(\"Datasets/Universities_Dataset.csv\")\n",
    "skills_list_preview = pd.read_csv(\"Datasets/Skills_Dataset.csv\")"
   ]
  },
  {
   "cell_type": "code",
   "execution_count": null,
   "metadata": {},
   "outputs": [],
   "source": [
    "print(company_csv_preview.head())\n",
    "print(university_csv_preview.head())\n",
    "print(skills_list_preview.head())"
   ]
  },
  {
   "cell_type": "code",
   "execution_count": 25,
   "metadata": {},
   "outputs": [
    {
     "name": "stdout",
     "output_type": "stream",
     "text": [
      "   Rank                   Name\n",
      "0     1                 Apple \n",
      "1     2     NVIDIA Corporation\n",
      "2     3  Microsoft Corporation\n",
      "3     4                Amazon \n",
      "4     5                Google \n"
     ]
    }
   ],
   "source": [
    "company_csv_preview = company_csv_preview.rename(columns = {\"Unnamed: 0\" : 'Rank'})\n",
    "company_csv_preview['Rank'] += 1\n",
    "print(company_csv_preview.head())"
   ]
  },
  {
   "cell_type": "code",
   "execution_count": 34,
   "metadata": {},
   "outputs": [],
   "source": [
    "company_csv_preview.to_csv('Datasets/Companies_Dataset.csv', index = False)"
   ]
  },
  {
   "cell_type": "markdown",
   "metadata": {},
   "source": [
    "University Dataset Preprocessing"
   ]
  },
  {
   "cell_type": "code",
   "execution_count": null,
   "metadata": {},
   "outputs": [
    {
     "name": "stdout",
     "output_type": "stream",
     "text": [
      "   ranking                             University\n",
      "0        1                     Harvard University\n",
      "1        2                    Stanford University\n",
      "2        3  Massachusetts Institute of Technology\n",
      "3        4      University of California Berkeley\n",
      "4        5                   University of Oxford\n"
     ]
    }
   ],
   "source": [
    "university_csv_preview.drop(columns = ['Unnamed: 0', 'Country','Impact Rank','Openness Rank','Excellence Rank'], inplace = True)\n",
    "print(university_csv_preview.head())"
   ]
  },
  {
   "cell_type": "code",
   "execution_count": 33,
   "metadata": {},
   "outputs": [],
   "source": [
    "university_csv_preview.to_csv('Datasets/Universities_Dataset.csv', index = False)"
   ]
  },
  {
   "cell_type": "code",
   "execution_count": 35,
   "metadata": {},
   "outputs": [
    {
     "name": "stdout",
     "output_type": "stream",
     "text": [
      "   Rank                   Name\n",
      "0     1                 Apple \n",
      "1     2     NVIDIA Corporation\n",
      "2     3  Microsoft Corporation\n",
      "3     4                Amazon \n",
      "4     5                Google \n",
      "   ranking                             University\n",
      "0        1                     Harvard University\n",
      "1        2                    Stanford University\n",
      "2        3  Massachusetts Institute of Technology\n",
      "3        4      University of California Berkeley\n",
      "4        5                   University of Oxford\n",
      "            Job_Role       Skill  Score  \\\n",
      "0  Software Engineer      Python    9.7   \n",
      "1  Software Engineer        Java    9.6   \n",
      "2  Software Engineer         C++    9.6   \n",
      "3  Software Engineer  JavaScript    9.5   \n",
      "4  Software Engineer  TypeScript    9.4   \n",
      "\n",
      "                                  Position  \n",
      "0  Intern, Junior, Mid-level, Senior, Lead  \n",
      "1  Intern, Junior, Mid-level, Senior, Lead  \n",
      "2  Intern, Junior, Mid-level, Senior, Lead  \n",
      "3  Intern, Junior, Mid-level, Senior, Lead  \n",
      "4          Junior, Mid-level, Senior, Lead  \n"
     ]
    }
   ],
   "source": [
    "print(company_csv_preview.head())\n",
    "print(university_csv_preview.head())\n",
    "print(skills_list_preview.head())"
   ]
  }
 ],
 "metadata": {
  "kernelspec": {
   "display_name": "Python 3",
   "language": "python",
   "name": "python3"
  },
  "language_info": {
   "codemirror_mode": {
    "name": "ipython",
    "version": 3
   },
   "file_extension": ".py",
   "mimetype": "text/x-python",
   "name": "python",
   "nbconvert_exporter": "python",
   "pygments_lexer": "ipython3",
   "version": "3.12.9"
  }
 },
 "nbformat": 4,
 "nbformat_minor": 2
}
